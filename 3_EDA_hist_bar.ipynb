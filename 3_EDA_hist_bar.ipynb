{
 "cells": [
  {
   "cell_type": "code",
   "execution_count": 1,
   "id": "7c9e181a",
   "metadata": {},
   "outputs": [],
   "source": [
    "import pandas as pd\n",
    "import numpy as np\n",
    "from matplotlib import pyplot as plt\n",
    "import plotly.express as px\n",
    "import seaborn as sns\n",
    "import geopandas as gpd\n",
    "\n",
    "plt.style.use('ggplot')\n",
    "pd.set_option('display.max_columns', 30)"
   ]
  },
  {
   "cell_type": "code",
   "execution_count": 3,
   "id": "2fc7d586",
   "metadata": {},
   "outputs": [
    {
     "data": {
      "text/html": [
       "<div>\n",
       "<style scoped>\n",
       "    .dataframe tbody tr th:only-of-type {\n",
       "        vertical-align: middle;\n",
       "    }\n",
       "\n",
       "    .dataframe tbody tr th {\n",
       "        vertical-align: top;\n",
       "    }\n",
       "\n",
       "    .dataframe thead th {\n",
       "        text-align: right;\n",
       "    }\n",
       "</style>\n",
       "<table border=\"1\" class=\"dataframe\">\n",
       "  <thead>\n",
       "    <tr style=\"text-align: right;\">\n",
       "      <th></th>\n",
       "      <th>tripduration</th>\n",
       "      <th>starttime</th>\n",
       "      <th>stoptime</th>\n",
       "      <th>start_id</th>\n",
       "      <th>start_name</th>\n",
       "      <th>start_lat</th>\n",
       "      <th>start_lon</th>\n",
       "      <th>end_id</th>\n",
       "      <th>end_name</th>\n",
       "      <th>end_lat</th>\n",
       "      <th>end_lon</th>\n",
       "      <th>bikeid</th>\n",
       "      <th>usertype</th>\n",
       "      <th>birth_year</th>\n",
       "      <th>gender</th>\n",
       "      <th>weekday</th>\n",
       "      <th>hour</th>\n",
       "      <th>geometry</th>\n",
       "      <th>zip_start</th>\n",
       "      <th>zip_end</th>\n",
       "    </tr>\n",
       "  </thead>\n",
       "  <tbody>\n",
       "    <tr>\n",
       "      <th>0</th>\n",
       "      <td>17.700000</td>\n",
       "      <td>2020-06-01 00:00:03.372</td>\n",
       "      <td>2020-06-01 00:17:46.208</td>\n",
       "      <td>3419</td>\n",
       "      <td>Douglass St &amp; 4 Ave</td>\n",
       "      <td>40.679279</td>\n",
       "      <td>-73.981540</td>\n",
       "      <td>3419</td>\n",
       "      <td>Douglass St &amp; 4 Ave</td>\n",
       "      <td>40.679279</td>\n",
       "      <td>-73.981540</td>\n",
       "      <td>39852</td>\n",
       "      <td>Customer</td>\n",
       "      <td>1997</td>\n",
       "      <td>2</td>\n",
       "      <td>0</td>\n",
       "      <td>0</td>\n",
       "      <td>POINT (989370.1838770027 186756.53892500512)</td>\n",
       "      <td>11217</td>\n",
       "      <td>11217.0</td>\n",
       "    </tr>\n",
       "    <tr>\n",
       "      <th>1</th>\n",
       "      <td>63.500000</td>\n",
       "      <td>2020-06-01 00:00:03.553</td>\n",
       "      <td>2020-06-01 01:03:33.936</td>\n",
       "      <td>366</td>\n",
       "      <td>Clinton Ave &amp; Myrtle Ave</td>\n",
       "      <td>40.693261</td>\n",
       "      <td>-73.968896</td>\n",
       "      <td>336</td>\n",
       "      <td>Sullivan St &amp; Washington Sq</td>\n",
       "      <td>40.730477</td>\n",
       "      <td>-73.999061</td>\n",
       "      <td>37558</td>\n",
       "      <td>Subscriber</td>\n",
       "      <td>1969</td>\n",
       "      <td>0</td>\n",
       "      <td>0</td>\n",
       "      <td>0</td>\n",
       "      <td>POINT (992875.4144866021 191851.65323921342)</td>\n",
       "      <td>11205</td>\n",
       "      <td>10012.0</td>\n",
       "    </tr>\n",
       "    <tr>\n",
       "      <th>2</th>\n",
       "      <td>16.950000</td>\n",
       "      <td>2020-06-01 00:00:09.614</td>\n",
       "      <td>2020-06-01 00:17:06.833</td>\n",
       "      <td>389</td>\n",
       "      <td>Broadway &amp; Berry St</td>\n",
       "      <td>40.710446</td>\n",
       "      <td>-73.965251</td>\n",
       "      <td>3562</td>\n",
       "      <td>Classon Ave &amp; St Marks Ave</td>\n",
       "      <td>40.676520</td>\n",
       "      <td>-73.959608</td>\n",
       "      <td>37512</td>\n",
       "      <td>Customer</td>\n",
       "      <td>1988</td>\n",
       "      <td>2</td>\n",
       "      <td>0</td>\n",
       "      <td>0</td>\n",
       "      <td>POINT (993883.8241576733 198112.87322040228)</td>\n",
       "      <td>11249</td>\n",
       "      <td>11238.0</td>\n",
       "    </tr>\n",
       "    <tr>\n",
       "      <th>3</th>\n",
       "      <td>3.766667</td>\n",
       "      <td>2020-06-01 00:00:12.178</td>\n",
       "      <td>2020-06-01 00:03:58.864</td>\n",
       "      <td>3255</td>\n",
       "      <td>8 Ave &amp; W 31 St</td>\n",
       "      <td>40.750585</td>\n",
       "      <td>-73.994685</td>\n",
       "      <td>505</td>\n",
       "      <td>6 Ave &amp; W 33 St</td>\n",
       "      <td>40.749013</td>\n",
       "      <td>-73.988484</td>\n",
       "      <td>39674</td>\n",
       "      <td>Customer</td>\n",
       "      <td>1969</td>\n",
       "      <td>0</td>\n",
       "      <td>0</td>\n",
       "      <td>0</td>\n",
       "      <td>POINT (985722.6805079061 212735.19209770544)</td>\n",
       "      <td>10001</td>\n",
       "      <td>10001.0</td>\n",
       "    </tr>\n",
       "    <tr>\n",
       "      <th>4</th>\n",
       "      <td>23.950000</td>\n",
       "      <td>2020-06-01 00:00:21.255</td>\n",
       "      <td>2020-06-01 00:24:18.965</td>\n",
       "      <td>367</td>\n",
       "      <td>E 53 St &amp; Lexington Ave</td>\n",
       "      <td>40.758281</td>\n",
       "      <td>-73.970694</td>\n",
       "      <td>497</td>\n",
       "      <td>E 17 St &amp; Broadway</td>\n",
       "      <td>40.737050</td>\n",
       "      <td>-73.990093</td>\n",
       "      <td>21093</td>\n",
       "      <td>Customer</td>\n",
       "      <td>1997</td>\n",
       "      <td>2</td>\n",
       "      <td>0</td>\n",
       "      <td>0</td>\n",
       "      <td>POINT (992368.8021711168 215540.1540624901)</td>\n",
       "      <td>10022</td>\n",
       "      <td>10003.0</td>\n",
       "    </tr>\n",
       "  </tbody>\n",
       "</table>\n",
       "</div>"
      ],
      "text/plain": [
       "   tripduration                starttime                 stoptime  start_id  \\\n",
       "0     17.700000  2020-06-01 00:00:03.372  2020-06-01 00:17:46.208      3419   \n",
       "1     63.500000  2020-06-01 00:00:03.553  2020-06-01 01:03:33.936       366   \n",
       "2     16.950000  2020-06-01 00:00:09.614  2020-06-01 00:17:06.833       389   \n",
       "3      3.766667  2020-06-01 00:00:12.178  2020-06-01 00:03:58.864      3255   \n",
       "4     23.950000  2020-06-01 00:00:21.255  2020-06-01 00:24:18.965       367   \n",
       "\n",
       "                 start_name  start_lat  start_lon  end_id  \\\n",
       "0       Douglass St & 4 Ave  40.679279 -73.981540    3419   \n",
       "1  Clinton Ave & Myrtle Ave  40.693261 -73.968896     336   \n",
       "2       Broadway & Berry St  40.710446 -73.965251    3562   \n",
       "3           8 Ave & W 31 St  40.750585 -73.994685     505   \n",
       "4   E 53 St & Lexington Ave  40.758281 -73.970694     497   \n",
       "\n",
       "                      end_name    end_lat    end_lon  bikeid    usertype  \\\n",
       "0          Douglass St & 4 Ave  40.679279 -73.981540   39852    Customer   \n",
       "1  Sullivan St & Washington Sq  40.730477 -73.999061   37558  Subscriber   \n",
       "2   Classon Ave & St Marks Ave  40.676520 -73.959608   37512    Customer   \n",
       "3              6 Ave & W 33 St  40.749013 -73.988484   39674    Customer   \n",
       "4           E 17 St & Broadway  40.737050 -73.990093   21093    Customer   \n",
       "\n",
       "   birth_year  gender  weekday  hour  \\\n",
       "0        1997       2        0     0   \n",
       "1        1969       0        0     0   \n",
       "2        1988       2        0     0   \n",
       "3        1969       0        0     0   \n",
       "4        1997       2        0     0   \n",
       "\n",
       "                                       geometry  zip_start  zip_end  \n",
       "0  POINT (989370.1838770027 186756.53892500512)      11217  11217.0  \n",
       "1  POINT (992875.4144866021 191851.65323921342)      11205  10012.0  \n",
       "2  POINT (993883.8241576733 198112.87322040228)      11249  11238.0  \n",
       "3  POINT (985722.6805079061 212735.19209770544)      10001  10001.0  \n",
       "4   POINT (992368.8021711168 215540.1540624901)      10022  10003.0  "
      ]
     },
     "execution_count": 3,
     "metadata": {},
     "output_type": "execute_result"
    }
   ],
   "source": [
    "df = pd.read_csv('data/citibike_ZIP.csv')\n",
    "df.head()"
   ]
  },
  {
   "cell_type": "code",
   "execution_count": 4,
   "id": "b09cc7f2",
   "metadata": {},
   "outputs": [
    {
     "data": {
      "text/plain": [
       "(1863447, 20)"
      ]
     },
     "execution_count": 4,
     "metadata": {},
     "output_type": "execute_result"
    }
   ],
   "source": [
    "df.shape #1.86 million"
   ]
  },
  {
   "cell_type": "code",
   "execution_count": 5,
   "id": "0e6dd8cf",
   "metadata": {},
   "outputs": [
    {
     "data": {
      "text/html": [
       "<div>\n",
       "<style scoped>\n",
       "    .dataframe tbody tr th:only-of-type {\n",
       "        vertical-align: middle;\n",
       "    }\n",
       "\n",
       "    .dataframe tbody tr th {\n",
       "        vertical-align: top;\n",
       "    }\n",
       "\n",
       "    .dataframe thead th {\n",
       "        text-align: right;\n",
       "    }\n",
       "</style>\n",
       "<table border=\"1\" class=\"dataframe\">\n",
       "  <thead>\n",
       "    <tr style=\"text-align: right;\">\n",
       "      <th></th>\n",
       "      <th>start_id</th>\n",
       "      <th>start_count</th>\n",
       "    </tr>\n",
       "  </thead>\n",
       "  <tbody>\n",
       "    <tr>\n",
       "      <th>0</th>\n",
       "      <td>72</td>\n",
       "      <td>5507</td>\n",
       "    </tr>\n",
       "    <tr>\n",
       "      <th>1</th>\n",
       "      <td>79</td>\n",
       "      <td>1521</td>\n",
       "    </tr>\n",
       "    <tr>\n",
       "      <th>2</th>\n",
       "      <td>82</td>\n",
       "      <td>1177</td>\n",
       "    </tr>\n",
       "    <tr>\n",
       "      <th>3</th>\n",
       "      <td>83</td>\n",
       "      <td>2342</td>\n",
       "    </tr>\n",
       "    <tr>\n",
       "      <th>4</th>\n",
       "      <td>116</td>\n",
       "      <td>4271</td>\n",
       "    </tr>\n",
       "  </tbody>\n",
       "</table>\n",
       "</div>"
      ],
      "text/plain": [
       "   start_id  start_count\n",
       "0        72         5507\n",
       "1        79         1521\n",
       "2        82         1177\n",
       "3        83         2342\n",
       "4       116         4271"
      ]
     },
     "execution_count": 5,
     "metadata": {},
     "output_type": "execute_result"
    }
   ],
   "source": [
    "# exploration of station usage\n",
    "\n",
    "start_count = df.groupby(['start_id'], as_index=False)['bikeid'].count()\n",
    "start_count.columns = ['start_id','start_count']\n",
    "start_count.head()"
   ]
  },
  {
   "cell_type": "code",
   "execution_count": 5,
   "id": "b15d0b09",
   "metadata": {},
   "outputs": [
    {
     "data": {
      "text/plain": [
       "1863447"
      ]
     },
     "execution_count": 5,
     "metadata": {},
     "output_type": "execute_result"
    }
   ],
   "source": [
    "start_count['start_count'].sum()"
   ]
  },
  {
   "cell_type": "code",
   "execution_count": 6,
   "id": "ca88ea44",
   "metadata": {
    "scrolled": true
   },
   "outputs": [
    {
     "data": {
      "text/plain": [
       "count      958.000000\n",
       "mean      1945.143006\n",
       "std       1748.268353\n",
       "min         12.000000\n",
       "25%        703.250000\n",
       "50%       1408.000000\n",
       "75%       2721.750000\n",
       "max      12170.000000\n",
       "Name: start_count, dtype: float64"
      ]
     },
     "execution_count": 6,
     "metadata": {},
     "output_type": "execute_result"
    }
   ],
   "source": [
    "start_count['start_count'].describe()\n",
    "# station usage ranges from 12 to 12170 per month"
   ]
  },
  {
   "cell_type": "code",
   "execution_count": 8,
   "id": "8399d940",
   "metadata": {},
   "outputs": [
    {
     "data": {
      "text/plain": [
       "<Axes: >"
      ]
     },
     "execution_count": 8,
     "metadata": {},
     "output_type": "execute_result"
    },
    {
     "data": {
      "image/png": "[encoded data removed]",
      "text/plain": [
       "<Figure size 1000x500 with 1 Axes>"
      ]
     },
     "metadata": {},
     "output_type": "display_data"
    }
   ],
   "source": [
    "# bar plot of most frequently used stations for trip starts\n",
    "plt.figure(figsize = (10,5))\n",
    "start_count['start_count'].sort_values(ascending=False).head(10).plot.bar(color = 'b')"
   ]
  },
  {
   "cell_type": "code",
   "execution_count": 6,
   "id": "52d5a9e6",
   "metadata": {},
   "outputs": [
    {
     "data": {
      "text/html": [
       "<div>\n",
       "<style scoped>\n",
       "    .dataframe tbody tr th:only-of-type {\n",
       "        vertical-align: middle;\n",
       "    }\n",
       "\n",
       "    .dataframe tbody tr th {\n",
       "        vertical-align: top;\n",
       "    }\n",
       "\n",
       "    .dataframe thead th {\n",
       "        text-align: right;\n",
       "    }\n",
       "</style>\n",
       "<table border=\"1\" class=\"dataframe\">\n",
       "  <thead>\n",
       "    <tr style=\"text-align: right;\">\n",
       "      <th></th>\n",
       "      <th>end_id</th>\n",
       "      <th>end_count</th>\n",
       "    </tr>\n",
       "  </thead>\n",
       "  <tbody>\n",
       "    <tr>\n",
       "      <th>0</th>\n",
       "      <td>72</td>\n",
       "      <td>5445</td>\n",
       "    </tr>\n",
       "    <tr>\n",
       "      <th>1</th>\n",
       "      <td>79</td>\n",
       "      <td>1514</td>\n",
       "    </tr>\n",
       "    <tr>\n",
       "      <th>2</th>\n",
       "      <td>82</td>\n",
       "      <td>1185</td>\n",
       "    </tr>\n",
       "    <tr>\n",
       "      <th>3</th>\n",
       "      <td>83</td>\n",
       "      <td>2361</td>\n",
       "    </tr>\n",
       "    <tr>\n",
       "      <th>4</th>\n",
       "      <td>116</td>\n",
       "      <td>4272</td>\n",
       "    </tr>\n",
       "  </tbody>\n",
       "</table>\n",
       "</div>"
      ],
      "text/plain": [
       "   end_id  end_count\n",
       "0      72       5445\n",
       "1      79       1514\n",
       "2      82       1185\n",
       "3      83       2361\n",
       "4     116       4272"
      ]
     },
     "execution_count": 6,
     "metadata": {},
     "output_type": "execute_result"
    }
   ],
   "source": [
    "end_count = df.groupby(['end_id'], as_index=False)['bikeid'].count()\n",
    "end_count.columns = ['end_id','end_count']\n",
    "end_count.head()"
   ]
  },
  {
   "cell_type": "code",
   "execution_count": 13,
   "id": "32e6e89f",
   "metadata": {},
   "outputs": [
    {
     "data": {
      "text/plain": [
       "1863447"
      ]
     },
     "execution_count": 13,
     "metadata": {},
     "output_type": "execute_result"
    }
   ],
   "source": [
    "end_count['end_count'].sum()"
   ]
  },
  {
   "cell_type": "code",
   "execution_count": 17,
   "id": "322d9b65",
   "metadata": {},
   "outputs": [
    {
     "data": {
      "text/plain": [
       "count     969.00\n",
       "mean     1923.06\n",
       "std      1756.91\n",
       "min         1.00\n",
       "25%       670.00\n",
       "50%      1386.00\n",
       "75%      2657.00\n",
       "max     12300.00\n",
       "Name: end_count, dtype: float64"
      ]
     },
     "execution_count": 17,
     "metadata": {},
     "output_type": "execute_result"
    }
   ],
   "source": [
    "end_count['end_count'].describe()\n",
    "# station returns range from 1 to 12300 per month"
   ]
  },
  {
   "cell_type": "code",
   "execution_count": 7,
   "id": "ebdeb809",
   "metadata": {},
   "outputs": [
    {
     "data": {
      "text/html": [
       "<div>\n",
       "<style scoped>\n",
       "    .dataframe tbody tr th:only-of-type {\n",
       "        vertical-align: middle;\n",
       "    }\n",
       "\n",
       "    .dataframe tbody tr th {\n",
       "        vertical-align: top;\n",
       "    }\n",
       "\n",
       "    .dataframe thead th {\n",
       "        text-align: right;\n",
       "    }\n",
       "</style>\n",
       "<table border=\"1\" class=\"dataframe\">\n",
       "  <thead>\n",
       "    <tr style=\"text-align: right;\">\n",
       "      <th></th>\n",
       "      <th>tripduration</th>\n",
       "    </tr>\n",
       "  </thead>\n",
       "  <tbody>\n",
       "    <tr>\n",
       "      <th>count</th>\n",
       "      <td>1863447.00</td>\n",
       "    </tr>\n",
       "    <tr>\n",
       "      <th>mean</th>\n",
       "      <td>20.92</td>\n",
       "    </tr>\n",
       "    <tr>\n",
       "      <th>std</th>\n",
       "      <td>16.79</td>\n",
       "    </tr>\n",
       "    <tr>\n",
       "      <th>min</th>\n",
       "      <td>1.02</td>\n",
       "    </tr>\n",
       "    <tr>\n",
       "      <th>25%</th>\n",
       "      <td>9.00</td>\n",
       "    </tr>\n",
       "    <tr>\n",
       "      <th>50%</th>\n",
       "      <td>16.95</td>\n",
       "    </tr>\n",
       "    <tr>\n",
       "      <th>75%</th>\n",
       "      <td>28.18</td>\n",
       "    </tr>\n",
       "    <tr>\n",
       "      <th>max</th>\n",
       "      <td>132.43</td>\n",
       "    </tr>\n",
       "  </tbody>\n",
       "</table>\n",
       "</div>"
      ],
      "text/plain": [
       "       tripduration\n",
       "count    1863447.00\n",
       "mean          20.92\n",
       "std           16.79\n",
       "min            1.02\n",
       "25%            9.00\n",
       "50%           16.95\n",
       "75%           28.18\n",
       "max          132.43"
      ]
     },
     "execution_count": 7,
     "metadata": {},
     "output_type": "execute_result"
    }
   ],
   "source": [
    "pd.options.display.float_format = '{:.2f}'.format\n",
    "df[['tripduration']].describe()"
   ]
  },
  {
   "cell_type": "code",
   "execution_count": null,
   "id": "cd66d82b",
   "metadata": {},
   "outputs": [],
   "source": []
  },
  {
   "cell_type": "code",
   "execution_count": 20,
   "id": "a22c4f34",
   "metadata": {},
   "outputs": [
    {
     "data": {
      "image/png": "[encoded data removed]",
      "text/plain": [
       "<Figure size 1500x900 with 1 Axes>"
      ]
     },
     "metadata": {},
     "output_type": "display_data"
    }
   ],
   "source": [
    "# histogram of trip duration\n",
    "fig, ax = plt.subplots(figsize=(15,9)) # w x h\n",
    "plt.hist(x = df['tripduration'], bins = 20, color = 'cornflowerblue')\n",
    "\n",
    "plt.title('Histogram of CitiBike Trip Duration')\n",
    "ax.set_facecolor(\"whitesmoke\")"
   ]
  },
  {
   "cell_type": "code",
   "execution_count": 35,
   "id": "2fa2f9f7",
   "metadata": {},
   "outputs": [
    {
     "data": {
      "text/html": [
       "<div>\n",
       "<style scoped>\n",
       "    .dataframe tbody tr th:only-of-type {\n",
       "        vertical-align: middle;\n",
       "    }\n",
       "\n",
       "    .dataframe tbody tr th {\n",
       "        vertical-align: top;\n",
       "    }\n",
       "\n",
       "    .dataframe thead th {\n",
       "        text-align: right;\n",
       "    }\n",
       "</style>\n",
       "<table border=\"1\" class=\"dataframe\">\n",
       "  <thead>\n",
       "    <tr style=\"text-align: right;\">\n",
       "      <th></th>\n",
       "      <th>start_id</th>\n",
       "      <th>tripduration</th>\n",
       "    </tr>\n",
       "  </thead>\n",
       "  <tbody>\n",
       "    <tr>\n",
       "      <th>0</th>\n",
       "      <td>72</td>\n",
       "      <td>23.00</td>\n",
       "    </tr>\n",
       "    <tr>\n",
       "      <th>1</th>\n",
       "      <td>79</td>\n",
       "      <td>19.96</td>\n",
       "    </tr>\n",
       "    <tr>\n",
       "      <th>2</th>\n",
       "      <td>82</td>\n",
       "      <td>18.29</td>\n",
       "    </tr>\n",
       "    <tr>\n",
       "      <th>3</th>\n",
       "      <td>83</td>\n",
       "      <td>21.17</td>\n",
       "    </tr>\n",
       "    <tr>\n",
       "      <th>4</th>\n",
       "      <td>116</td>\n",
       "      <td>17.54</td>\n",
       "    </tr>\n",
       "    <tr>\n",
       "      <th>...</th>\n",
       "      <td>...</td>\n",
       "      <td>...</td>\n",
       "    </tr>\n",
       "    <tr>\n",
       "      <th>953</th>\n",
       "      <td>4021</td>\n",
       "      <td>24.32</td>\n",
       "    </tr>\n",
       "    <tr>\n",
       "      <th>954</th>\n",
       "      <td>4023</td>\n",
       "      <td>25.98</td>\n",
       "    </tr>\n",
       "    <tr>\n",
       "      <th>955</th>\n",
       "      <td>4036</td>\n",
       "      <td>26.29</td>\n",
       "    </tr>\n",
       "    <tr>\n",
       "      <th>956</th>\n",
       "      <td>4037</td>\n",
       "      <td>29.02</td>\n",
       "    </tr>\n",
       "    <tr>\n",
       "      <th>957</th>\n",
       "      <td>4038</td>\n",
       "      <td>29.54</td>\n",
       "    </tr>\n",
       "  </tbody>\n",
       "</table>\n",
       "<p>958 rows × 2 columns</p>\n",
       "</div>"
      ],
      "text/plain": [
       "     start_id  tripduration\n",
       "0          72         23.00\n",
       "1          79         19.96\n",
       "2          82         18.29\n",
       "3          83         21.17\n",
       "4         116         17.54\n",
       "..        ...           ...\n",
       "953      4021         24.32\n",
       "954      4023         25.98\n",
       "955      4036         26.29\n",
       "956      4037         29.02\n",
       "957      4038         29.54\n",
       "\n",
       "[958 rows x 2 columns]"
      ]
     },
     "execution_count": 35,
     "metadata": {},
     "output_type": "execute_result"
    }
   ],
   "source": [
    "station_trip = df.groupby(['start_id'], as_index=False)['tripduration'].mean()\n",
    "station_trip"
   ]
  },
  {
   "cell_type": "code",
   "execution_count": 40,
   "id": "2f595170",
   "metadata": {},
   "outputs": [
    {
     "data": {
      "text/plain": [
       "<Axes: xlabel='start_id'>"
      ]
     },
     "execution_count": 40,
     "metadata": {},
     "output_type": "execute_result"
    },
    {
     "data": {
      "image/png": "[encoded data removed]",
      "text/plain": [
       "<Figure size 1000x500 with 1 Axes>"
      ]
     },
     "metadata": {},
     "output_type": "display_data"
    }
   ],
   "source": [
    "# bar plot of stations for trip starts with the longest trip average\n",
    "plt.figure(figsize = (10,5)) \n",
    "df.groupby('start_id')['tripduration'].mean().sort_values(ascending=False).head(5).plot.bar(color = 'b')"
   ]
  },
  {
   "cell_type": "code",
   "execution_count": 25,
   "id": "bcf0b42c",
   "metadata": {},
   "outputs": [
    {
     "data": {
      "text/plain": [
       "count   1863447.00\n",
       "mean         38.54\n",
       "std          12.20\n",
       "min          16.00\n",
       "25%          29.00\n",
       "50%          35.00\n",
       "75%          51.00\n",
       "max         147.00\n",
       "Name: age, dtype: float64"
      ]
     },
     "execution_count": 25,
     "metadata": {},
     "output_type": "execute_result"
    }
   ],
   "source": [
    "df['age'] = 2020 - df['birth_year']\n",
    "df['age'].describe()"
   ]
  },
  {
   "cell_type": "code",
   "execution_count": 27,
   "id": "4050a9f6",
   "metadata": {},
   "outputs": [
    {
     "data": {
      "image/png": "[encoded data removed]",
      "text/plain": [
       "<Figure size 1000x800 with 1 Axes>"
      ]
     },
     "metadata": {},
     "output_type": "display_data"
    }
   ],
   "source": [
    "# histogram of user age\n",
    "fig, ax = plt.subplots(figsize=(10,8)) # w x h\n",
    "plt.hist(x = df['age'], bins = 15, color = 'cornflowerblue')\n",
    "\n",
    "plt.title('Histogram of CitiBike User Age')\n",
    "ax.set_facecolor(\"whitesmoke\")"
   ]
  },
  {
   "cell_type": "code",
   "execution_count": 25,
   "id": "0ab3f455",
   "metadata": {},
   "outputs": [
    {
     "data": {
      "text/plain": [
       "1    1038858\n",
       "2     581536\n",
       "0     243053\n",
       "Name: gender, dtype: int64"
      ]
     },
     "execution_count": 25,
     "metadata": {},
     "output_type": "execute_result"
    }
   ],
   "source": [
    "df['gender'].value_counts()\n",
    "# 0 = unknown, 1 = male, 2 = female\n",
    "# 2x as many males as females"
   ]
  },
  {
   "cell_type": "code",
   "execution_count": 28,
   "id": "91020d41",
   "metadata": {},
   "outputs": [
    {
     "data": {
      "text/plain": [
       "gender\n",
       "0   27.67\n",
       "1   18.86\n",
       "2   21.77\n",
       "Name: tripduration, dtype: float64"
      ]
     },
     "execution_count": 28,
     "metadata": {},
     "output_type": "execute_result"
    }
   ],
   "source": [
    "gend = df.groupby('gender')['tripduration'].mean()\n",
    "gend"
   ]
  },
  {
   "cell_type": "code",
   "execution_count": 29,
   "id": "28fad3c6",
   "metadata": {},
   "outputs": [
    {
     "data": {
      "text/plain": [
       "usertype  \n",
       "Subscriber    1302353\n",
       "Customer       561094\n",
       "dtype: int64"
      ]
     },
     "execution_count": 29,
     "metadata": {},
     "output_type": "execute_result"
    }
   ],
   "source": [
    "df['usertype'].value_counts()\n",
    "# 2x as many subscribers as customers"
   ]
  },
  {
   "cell_type": "code",
   "execution_count": 32,
   "id": "3e0d51d7",
   "metadata": {},
   "outputs": [
    {
     "data": {
      "text/html": [
       "<div>\n",
       "<style scoped>\n",
       "    .dataframe tbody tr th:only-of-type {\n",
       "        vertical-align: middle;\n",
       "    }\n",
       "\n",
       "    .dataframe tbody tr th {\n",
       "        vertical-align: top;\n",
       "    }\n",
       "\n",
       "    .dataframe thead th {\n",
       "        text-align: right;\n",
       "    }\n",
       "</style>\n",
       "<table border=\"1\" class=\"dataframe\">\n",
       "  <thead>\n",
       "    <tr style=\"text-align: right;\">\n",
       "      <th></th>\n",
       "      <th>usertype</th>\n",
       "      <th>tripduration</th>\n",
       "    </tr>\n",
       "  </thead>\n",
       "  <tbody>\n",
       "    <tr>\n",
       "      <th>0</th>\n",
       "      <td>Customer</td>\n",
       "      <td>27.05</td>\n",
       "    </tr>\n",
       "    <tr>\n",
       "      <th>1</th>\n",
       "      <td>Subscriber</td>\n",
       "      <td>18.28</td>\n",
       "    </tr>\n",
       "  </tbody>\n",
       "</table>\n",
       "</div>"
      ],
      "text/plain": [
       "     usertype  tripduration\n",
       "0    Customer         27.05\n",
       "1  Subscriber         18.28"
      ]
     },
     "execution_count": 32,
     "metadata": {},
     "output_type": "execute_result"
    }
   ],
   "source": [
    "user = df.groupby('usertype', as_index = False)[['tripduration']].mean()\n",
    "user\n",
    "# customers use bikes for longer"
   ]
  },
  {
   "cell_type": "code",
   "execution_count": 49,
   "id": "2baf24ee",
   "metadata": {
    "scrolled": true
   },
   "outputs": [
    {
     "data": {
      "text/plain": [
       "<seaborn.axisgrid.FacetGrid at 0x7fc449094460>"
      ]
     },
     "execution_count": 49,
     "metadata": {},
     "output_type": "execute_result"
    },
    {
     "data": {
      "image/png": "[encoded data removed]",
      "text/plain": [
       "<Figure size 600x300 with 2 Axes>"
      ]
     },
     "metadata": {},
     "output_type": "display_data"
    }
   ],
   "source": [
    "trips_user = sns.FacetGrid(df, col = 'usertype')\n",
    "trips_user.map(plt.hist,\n",
    "               'tripduration', \n",
    "               bins = 20, \n",
    "               color = 'cornflowerblue'\n",
    "               #facecolor = 'whitesmoke'\n",
    "              )"
   ]
  },
  {
   "cell_type": "code",
   "execution_count": 34,
   "id": "30027687",
   "metadata": {},
   "outputs": [
    {
     "data": {
      "text/plain": [
       "514     12170\n",
       "3141    10914\n",
       "426     10834\n",
       "499      9539\n",
       "3256     9454\n",
       "        ...  \n",
       "3954       41\n",
       "4011       36\n",
       "3952       27\n",
       "3941       26\n",
       "3966       12\n",
       "Name: start_id, Length: 958, dtype: int64"
      ]
     },
     "execution_count": 34,
     "metadata": {},
     "output_type": "execute_result"
    }
   ],
   "source": [
    "df['start_id'].value_counts()"
   ]
  },
  {
   "cell_type": "code",
   "execution_count": 33,
   "id": "bc3d96b0",
   "metadata": {},
   "outputs": [
    {
     "data": {
      "text/plain": [
       "958"
      ]
     },
     "execution_count": 33,
     "metadata": {},
     "output_type": "execute_result"
    }
   ],
   "source": [
    "len(np.unique(df['start_id'])) # 958 stations"
   ]
  },
  {
   "cell_type": "code",
   "execution_count": 37,
   "id": "bbe3f692",
   "metadata": {},
   "outputs": [
    {
     "data": {
      "text/plain": [
       "0.93560965243444"
      ]
     },
     "execution_count": 37,
     "metadata": {},
     "output_type": "execute_result"
    }
   ],
   "source": [
    "len(df[df['start_id'] != df['end_id']])/len(df) #94% trips end at different stations than they start"
   ]
  },
  {
   "cell_type": "code",
   "execution_count": 15,
   "id": "bf584bb0",
   "metadata": {},
   "outputs": [],
   "source": [
    "df['starttime'] = pd.to_datetime(df['starttime'])\n",
    "df['stoptime'] = pd.to_datetime(df['stoptime'])"
   ]
  },
  {
   "cell_type": "code",
   "execution_count": 16,
   "id": "a8eea142",
   "metadata": {},
   "outputs": [],
   "source": [
    "# remove last two days of month so that there are equal counts of each day of the week\n",
    "df_avg = df[df['starttime'].dt.day < 29]"
   ]
  },
  {
   "cell_type": "code",
   "execution_count": 17,
   "id": "c4544ffd",
   "metadata": {},
   "outputs": [
    {
     "data": {
      "text/html": [
       "<div>\n",
       "<style scoped>\n",
       "    .dataframe tbody tr th:only-of-type {\n",
       "        vertical-align: middle;\n",
       "    }\n",
       "\n",
       "    .dataframe tbody tr th {\n",
       "        vertical-align: top;\n",
       "    }\n",
       "\n",
       "    .dataframe thead th {\n",
       "        text-align: right;\n",
       "    }\n",
       "</style>\n",
       "<table border=\"1\" class=\"dataframe\">\n",
       "  <thead>\n",
       "    <tr style=\"text-align: right;\">\n",
       "      <th></th>\n",
       "      <th>weekday</th>\n",
       "      <th>total</th>\n",
       "    </tr>\n",
       "  </thead>\n",
       "  <tbody>\n",
       "    <tr>\n",
       "      <th>0</th>\n",
       "      <td>0</td>\n",
       "      <td>229084</td>\n",
       "    </tr>\n",
       "    <tr>\n",
       "      <th>1</th>\n",
       "      <td>1</td>\n",
       "      <td>238642</td>\n",
       "    </tr>\n",
       "    <tr>\n",
       "      <th>2</th>\n",
       "      <td>2</td>\n",
       "      <td>220795</td>\n",
       "    </tr>\n",
       "    <tr>\n",
       "      <th>3</th>\n",
       "      <td>3</td>\n",
       "      <td>213403</td>\n",
       "    </tr>\n",
       "    <tr>\n",
       "      <th>4</th>\n",
       "      <td>4</td>\n",
       "      <td>255941</td>\n",
       "    </tr>\n",
       "    <tr>\n",
       "      <th>5</th>\n",
       "      <td>5</td>\n",
       "      <td>281892</td>\n",
       "    </tr>\n",
       "    <tr>\n",
       "      <th>6</th>\n",
       "      <td>6</td>\n",
       "      <td>297739</td>\n",
       "    </tr>\n",
       "  </tbody>\n",
       "</table>\n",
       "</div>"
      ],
      "text/plain": [
       "   weekday   total\n",
       "0        0  229084\n",
       "1        1  238642\n",
       "2        2  220795\n",
       "3        3  213403\n",
       "4        4  255941\n",
       "5        5  281892\n",
       "6        6  297739"
      ]
     },
     "execution_count": 17,
     "metadata": {},
     "output_type": "execute_result"
    }
   ],
   "source": [
    "trip_day = df_avg.groupby('weekday', as_index = False)[['starttime']].count()\n",
    "trip_day.columns = ['weekday','total']\n",
    "trip_day"
   ]
  },
  {
   "cell_type": "code",
   "execution_count": 19,
   "id": "34b1941c",
   "metadata": {},
   "outputs": [
    {
     "data": {
      "image/png": "[encoded data removed]",
      "text/plain": [
       "<Figure size 1500x900 with 1 Axes>"
      ]
     },
     "metadata": {},
     "output_type": "display_data"
    }
   ],
   "source": [
    "# bar graph for trip starts by day of the week\n",
    "ax = trip_day.plot(kind='bar', width=1, color = 'cornflowerblue', figsize=(15,9), legend = False)\n",
    "ax.set_xlabel(\"Day of the Week\")\n",
    "ax.set_ylabel(\"Trip Count\")\n",
    "ax.set_xticks([0, 1, 2, 3, 4, 5, 6], \n",
    "              ['Monday', 'Tuesday','Wednesday','Thursday','Friday','Saturday','Sunday'], \n",
    "              rotation = 45)\n",
    "\n",
    "plt.title('CitiBike Trips by Day of the Week')\n",
    "ax.set_facecolor(\"whitesmoke\")"
   ]
  },
  {
   "cell_type": "code",
   "execution_count": 21,
   "id": "5cc6d388",
   "metadata": {},
   "outputs": [
    {
     "data": {
      "text/html": [
       "<div>\n",
       "<style scoped>\n",
       "    .dataframe tbody tr th:only-of-type {\n",
       "        vertical-align: middle;\n",
       "    }\n",
       "\n",
       "    .dataframe tbody tr th {\n",
       "        vertical-align: top;\n",
       "    }\n",
       "\n",
       "    .dataframe thead th {\n",
       "        text-align: right;\n",
       "    }\n",
       "</style>\n",
       "<table border=\"1\" class=\"dataframe\">\n",
       "  <thead>\n",
       "    <tr style=\"text-align: right;\">\n",
       "      <th></th>\n",
       "      <th>starttime</th>\n",
       "    </tr>\n",
       "    <tr>\n",
       "      <th>hour</th>\n",
       "      <th></th>\n",
       "    </tr>\n",
       "  </thead>\n",
       "  <tbody>\n",
       "    <tr>\n",
       "      <th>0</th>\n",
       "      <td>15403</td>\n",
       "    </tr>\n",
       "    <tr>\n",
       "      <th>1</th>\n",
       "      <td>9020</td>\n",
       "    </tr>\n",
       "    <tr>\n",
       "      <th>2</th>\n",
       "      <td>5141</td>\n",
       "    </tr>\n",
       "    <tr>\n",
       "      <th>3</th>\n",
       "      <td>3049</td>\n",
       "    </tr>\n",
       "    <tr>\n",
       "      <th>4</th>\n",
       "      <td>2707</td>\n",
       "    </tr>\n",
       "    <tr>\n",
       "      <th>5</th>\n",
       "      <td>8404</td>\n",
       "    </tr>\n",
       "    <tr>\n",
       "      <th>6</th>\n",
       "      <td>28249</td>\n",
       "    </tr>\n",
       "    <tr>\n",
       "      <th>7</th>\n",
       "      <td>48607</td>\n",
       "    </tr>\n",
       "    <tr>\n",
       "      <th>8</th>\n",
       "      <td>65898</td>\n",
       "    </tr>\n",
       "    <tr>\n",
       "      <th>9</th>\n",
       "      <td>69539</td>\n",
       "    </tr>\n",
       "    <tr>\n",
       "      <th>10</th>\n",
       "      <td>75868</td>\n",
       "    </tr>\n",
       "    <tr>\n",
       "      <th>11</th>\n",
       "      <td>88942</td>\n",
       "    </tr>\n",
       "    <tr>\n",
       "      <th>12</th>\n",
       "      <td>108825</td>\n",
       "    </tr>\n",
       "    <tr>\n",
       "      <th>13</th>\n",
       "      <td>117990</td>\n",
       "    </tr>\n",
       "    <tr>\n",
       "      <th>14</th>\n",
       "      <td>124296</td>\n",
       "    </tr>\n",
       "    <tr>\n",
       "      <th>15</th>\n",
       "      <td>134618</td>\n",
       "    </tr>\n",
       "    <tr>\n",
       "      <th>16</th>\n",
       "      <td>152066</td>\n",
       "    </tr>\n",
       "    <tr>\n",
       "      <th>17</th>\n",
       "      <td>178049</td>\n",
       "    </tr>\n",
       "    <tr>\n",
       "      <th>18</th>\n",
       "      <td>157507</td>\n",
       "    </tr>\n",
       "    <tr>\n",
       "      <th>19</th>\n",
       "      <td>129105</td>\n",
       "    </tr>\n",
       "    <tr>\n",
       "      <th>20</th>\n",
       "      <td>94082</td>\n",
       "    </tr>\n",
       "    <tr>\n",
       "      <th>21</th>\n",
       "      <td>58256</td>\n",
       "    </tr>\n",
       "    <tr>\n",
       "      <th>22</th>\n",
       "      <td>37238</td>\n",
       "    </tr>\n",
       "    <tr>\n",
       "      <th>23</th>\n",
       "      <td>24637</td>\n",
       "    </tr>\n",
       "  </tbody>\n",
       "</table>\n",
       "</div>"
      ],
      "text/plain": [
       "      starttime\n",
       "hour           \n",
       "0         15403\n",
       "1          9020\n",
       "2          5141\n",
       "3          3049\n",
       "4          2707\n",
       "5          8404\n",
       "6         28249\n",
       "7         48607\n",
       "8         65898\n",
       "9         69539\n",
       "10        75868\n",
       "11        88942\n",
       "12       108825\n",
       "13       117990\n",
       "14       124296\n",
       "15       134618\n",
       "16       152066\n",
       "17       178049\n",
       "18       157507\n",
       "19       129105\n",
       "20        94082\n",
       "21        58256\n",
       "22        37238\n",
       "23        24637"
      ]
     },
     "execution_count": 21,
     "metadata": {},
     "output_type": "execute_result"
    }
   ],
   "source": [
    "trip_hr = df_avg.groupby('hour')[['starttime']].count()\n",
    "trip_hr"
   ]
  },
  {
   "cell_type": "code",
   "execution_count": 22,
   "id": "6c082f7c",
   "metadata": {},
   "outputs": [
    {
     "data": {
      "image/png": "[encoded data removed]",
      "text/plain": [
       "<Figure size 1500x900 with 1 Axes>"
      ]
     },
     "metadata": {},
     "output_type": "display_data"
    }
   ],
   "source": [
    "ax = trip_hr.plot(kind='bar', color = 'cornflowerblue', figsize=(15,9), legend = False)\n",
    "ax.set_xlabel(\"Hour\")\n",
    "ax.set_ylabel(\"Trip Count\")\n",
    "\n",
    "plt.title('CitiBike Trips by Time of Day')\n",
    "ax.set_facecolor(\"whitesmoke\")"
   ]
  },
  {
   "cell_type": "code",
   "execution_count": 23,
   "id": "fd92199a",
   "metadata": {},
   "outputs": [
    {
     "data": {
      "text/plain": [
       "(1157865, 20)"
      ]
     },
     "execution_count": 23,
     "metadata": {},
     "output_type": "execute_result"
    }
   ],
   "source": [
    "weekdays = df_avg[df_avg['weekday'] < 5]\n",
    "weekdays.shape"
   ]
  },
  {
   "cell_type": "code",
   "execution_count": 24,
   "id": "e53f0c10",
   "metadata": {},
   "outputs": [
    {
     "data": {
      "text/html": [
       "<div>\n",
       "<style scoped>\n",
       "    .dataframe tbody tr th:only-of-type {\n",
       "        vertical-align: middle;\n",
       "    }\n",
       "\n",
       "    .dataframe tbody tr th {\n",
       "        vertical-align: top;\n",
       "    }\n",
       "\n",
       "    .dataframe thead th {\n",
       "        text-align: right;\n",
       "    }\n",
       "</style>\n",
       "<table border=\"1\" class=\"dataframe\">\n",
       "  <thead>\n",
       "    <tr style=\"text-align: right;\">\n",
       "      <th></th>\n",
       "      <th>hour</th>\n",
       "      <th>count</th>\n",
       "      <th>avg_week</th>\n",
       "    </tr>\n",
       "  </thead>\n",
       "  <tbody>\n",
       "    <tr>\n",
       "      <th>0</th>\n",
       "      <td>0</td>\n",
       "      <td>8268</td>\n",
       "      <td>413.40</td>\n",
       "    </tr>\n",
       "    <tr>\n",
       "      <th>1</th>\n",
       "      <td>1</td>\n",
       "      <td>4523</td>\n",
       "      <td>226.15</td>\n",
       "    </tr>\n",
       "    <tr>\n",
       "      <th>2</th>\n",
       "      <td>2</td>\n",
       "      <td>2753</td>\n",
       "      <td>137.65</td>\n",
       "    </tr>\n",
       "    <tr>\n",
       "      <th>3</th>\n",
       "      <td>3</td>\n",
       "      <td>1696</td>\n",
       "      <td>84.80</td>\n",
       "    </tr>\n",
       "    <tr>\n",
       "      <th>4</th>\n",
       "      <td>4</td>\n",
       "      <td>1801</td>\n",
       "      <td>90.05</td>\n",
       "    </tr>\n",
       "    <tr>\n",
       "      <th>5</th>\n",
       "      <td>5</td>\n",
       "      <td>6710</td>\n",
       "      <td>335.50</td>\n",
       "    </tr>\n",
       "    <tr>\n",
       "      <th>6</th>\n",
       "      <td>6</td>\n",
       "      <td>23982</td>\n",
       "      <td>1199.10</td>\n",
       "    </tr>\n",
       "    <tr>\n",
       "      <th>7</th>\n",
       "      <td>7</td>\n",
       "      <td>40508</td>\n",
       "      <td>2025.40</td>\n",
       "    </tr>\n",
       "    <tr>\n",
       "      <th>8</th>\n",
       "      <td>8</td>\n",
       "      <td>52608</td>\n",
       "      <td>2630.40</td>\n",
       "    </tr>\n",
       "    <tr>\n",
       "      <th>9</th>\n",
       "      <td>9</td>\n",
       "      <td>49150</td>\n",
       "      <td>2457.50</td>\n",
       "    </tr>\n",
       "    <tr>\n",
       "      <th>10</th>\n",
       "      <td>10</td>\n",
       "      <td>46997</td>\n",
       "      <td>2349.85</td>\n",
       "    </tr>\n",
       "    <tr>\n",
       "      <th>11</th>\n",
       "      <td>11</td>\n",
       "      <td>52456</td>\n",
       "      <td>2622.80</td>\n",
       "    </tr>\n",
       "    <tr>\n",
       "      <th>12</th>\n",
       "      <td>12</td>\n",
       "      <td>63838</td>\n",
       "      <td>3191.90</td>\n",
       "    </tr>\n",
       "    <tr>\n",
       "      <th>13</th>\n",
       "      <td>13</td>\n",
       "      <td>67879</td>\n",
       "      <td>3393.95</td>\n",
       "    </tr>\n",
       "    <tr>\n",
       "      <th>14</th>\n",
       "      <td>14</td>\n",
       "      <td>72040</td>\n",
       "      <td>3602.00</td>\n",
       "    </tr>\n",
       "    <tr>\n",
       "      <th>15</th>\n",
       "      <td>15</td>\n",
       "      <td>82249</td>\n",
       "      <td>4112.45</td>\n",
       "    </tr>\n",
       "    <tr>\n",
       "      <th>16</th>\n",
       "      <td>16</td>\n",
       "      <td>98497</td>\n",
       "      <td>4924.85</td>\n",
       "    </tr>\n",
       "    <tr>\n",
       "      <th>17</th>\n",
       "      <td>17</td>\n",
       "      <td>124082</td>\n",
       "      <td>6204.10</td>\n",
       "    </tr>\n",
       "    <tr>\n",
       "      <th>18</th>\n",
       "      <td>18</td>\n",
       "      <td>113420</td>\n",
       "      <td>5671.00</td>\n",
       "    </tr>\n",
       "    <tr>\n",
       "      <th>19</th>\n",
       "      <td>19</td>\n",
       "      <td>94480</td>\n",
       "      <td>4724.00</td>\n",
       "    </tr>\n",
       "    <tr>\n",
       "      <th>20</th>\n",
       "      <td>20</td>\n",
       "      <td>66694</td>\n",
       "      <td>3334.70</td>\n",
       "    </tr>\n",
       "    <tr>\n",
       "      <th>21</th>\n",
       "      <td>21</td>\n",
       "      <td>41045</td>\n",
       "      <td>2052.25</td>\n",
       "    </tr>\n",
       "    <tr>\n",
       "      <th>22</th>\n",
       "      <td>22</td>\n",
       "      <td>25859</td>\n",
       "      <td>1292.95</td>\n",
       "    </tr>\n",
       "    <tr>\n",
       "      <th>23</th>\n",
       "      <td>23</td>\n",
       "      <td>16330</td>\n",
       "      <td>816.50</td>\n",
       "    </tr>\n",
       "  </tbody>\n",
       "</table>\n",
       "</div>"
      ],
      "text/plain": [
       "    hour   count  avg_week\n",
       "0      0    8268    413.40\n",
       "1      1    4523    226.15\n",
       "2      2    2753    137.65\n",
       "3      3    1696     84.80\n",
       "4      4    1801     90.05\n",
       "5      5    6710    335.50\n",
       "6      6   23982   1199.10\n",
       "7      7   40508   2025.40\n",
       "8      8   52608   2630.40\n",
       "9      9   49150   2457.50\n",
       "10    10   46997   2349.85\n",
       "11    11   52456   2622.80\n",
       "12    12   63838   3191.90\n",
       "13    13   67879   3393.95\n",
       "14    14   72040   3602.00\n",
       "15    15   82249   4112.45\n",
       "16    16   98497   4924.85\n",
       "17    17  124082   6204.10\n",
       "18    18  113420   5671.00\n",
       "19    19   94480   4724.00\n",
       "20    20   66694   3334.70\n",
       "21    21   41045   2052.25\n",
       "22    22   25859   1292.95\n",
       "23    23   16330    816.50"
      ]
     },
     "execution_count": 24,
     "metadata": {},
     "output_type": "execute_result"
    }
   ],
   "source": [
    "trips_week = weekdays.groupby('hour', as_index = False)[['starttime']].count()\n",
    "trips_week.columns = ['hour','count']\n",
    "trips_week['avg_week'] = trips_week['count']/20\n",
    "trips_week"
   ]
  },
  {
   "cell_type": "code",
   "execution_count": 25,
   "id": "d7d822db",
   "metadata": {},
   "outputs": [
    {
     "data": {
      "text/plain": [
       "(579631, 20)"
      ]
     },
     "execution_count": 25,
     "metadata": {},
     "output_type": "execute_result"
    }
   ],
   "source": [
    "weekends = df_avg[df_avg['weekday'] > 4]\n",
    "weekends.shape"
   ]
  },
  {
   "cell_type": "code",
   "execution_count": 26,
   "id": "974bc1dc",
   "metadata": {},
   "outputs": [
    {
     "data": {
      "text/html": [
       "<div>\n",
       "<style scoped>\n",
       "    .dataframe tbody tr th:only-of-type {\n",
       "        vertical-align: middle;\n",
       "    }\n",
       "\n",
       "    .dataframe tbody tr th {\n",
       "        vertical-align: top;\n",
       "    }\n",
       "\n",
       "    .dataframe thead th {\n",
       "        text-align: right;\n",
       "    }\n",
       "</style>\n",
       "<table border=\"1\" class=\"dataframe\">\n",
       "  <thead>\n",
       "    <tr style=\"text-align: right;\">\n",
       "      <th></th>\n",
       "      <th>hour</th>\n",
       "      <th>count</th>\n",
       "      <th>avg_weekend</th>\n",
       "    </tr>\n",
       "  </thead>\n",
       "  <tbody>\n",
       "    <tr>\n",
       "      <th>0</th>\n",
       "      <td>0</td>\n",
       "      <td>7135</td>\n",
       "      <td>891.88</td>\n",
       "    </tr>\n",
       "    <tr>\n",
       "      <th>1</th>\n",
       "      <td>1</td>\n",
       "      <td>4497</td>\n",
       "      <td>562.12</td>\n",
       "    </tr>\n",
       "    <tr>\n",
       "      <th>2</th>\n",
       "      <td>2</td>\n",
       "      <td>2388</td>\n",
       "      <td>298.50</td>\n",
       "    </tr>\n",
       "    <tr>\n",
       "      <th>3</th>\n",
       "      <td>3</td>\n",
       "      <td>1353</td>\n",
       "      <td>169.12</td>\n",
       "    </tr>\n",
       "    <tr>\n",
       "      <th>4</th>\n",
       "      <td>4</td>\n",
       "      <td>906</td>\n",
       "      <td>113.25</td>\n",
       "    </tr>\n",
       "    <tr>\n",
       "      <th>5</th>\n",
       "      <td>5</td>\n",
       "      <td>1694</td>\n",
       "      <td>211.75</td>\n",
       "    </tr>\n",
       "    <tr>\n",
       "      <th>6</th>\n",
       "      <td>6</td>\n",
       "      <td>4267</td>\n",
       "      <td>533.38</td>\n",
       "    </tr>\n",
       "    <tr>\n",
       "      <th>7</th>\n",
       "      <td>7</td>\n",
       "      <td>8099</td>\n",
       "      <td>1012.38</td>\n",
       "    </tr>\n",
       "    <tr>\n",
       "      <th>8</th>\n",
       "      <td>8</td>\n",
       "      <td>13290</td>\n",
       "      <td>1661.25</td>\n",
       "    </tr>\n",
       "    <tr>\n",
       "      <th>9</th>\n",
       "      <td>9</td>\n",
       "      <td>20389</td>\n",
       "      <td>2548.62</td>\n",
       "    </tr>\n",
       "    <tr>\n",
       "      <th>10</th>\n",
       "      <td>10</td>\n",
       "      <td>28871</td>\n",
       "      <td>3608.88</td>\n",
       "    </tr>\n",
       "    <tr>\n",
       "      <th>11</th>\n",
       "      <td>11</td>\n",
       "      <td>36486</td>\n",
       "      <td>4560.75</td>\n",
       "    </tr>\n",
       "    <tr>\n",
       "      <th>12</th>\n",
       "      <td>12</td>\n",
       "      <td>44987</td>\n",
       "      <td>5623.38</td>\n",
       "    </tr>\n",
       "    <tr>\n",
       "      <th>13</th>\n",
       "      <td>13</td>\n",
       "      <td>50111</td>\n",
       "      <td>6263.88</td>\n",
       "    </tr>\n",
       "    <tr>\n",
       "      <th>14</th>\n",
       "      <td>14</td>\n",
       "      <td>52256</td>\n",
       "      <td>6532.00</td>\n",
       "    </tr>\n",
       "    <tr>\n",
       "      <th>15</th>\n",
       "      <td>15</td>\n",
       "      <td>52369</td>\n",
       "      <td>6546.12</td>\n",
       "    </tr>\n",
       "    <tr>\n",
       "      <th>16</th>\n",
       "      <td>16</td>\n",
       "      <td>53569</td>\n",
       "      <td>6696.12</td>\n",
       "    </tr>\n",
       "    <tr>\n",
       "      <th>17</th>\n",
       "      <td>17</td>\n",
       "      <td>53967</td>\n",
       "      <td>6745.88</td>\n",
       "    </tr>\n",
       "    <tr>\n",
       "      <th>18</th>\n",
       "      <td>18</td>\n",
       "      <td>44087</td>\n",
       "      <td>5510.88</td>\n",
       "    </tr>\n",
       "    <tr>\n",
       "      <th>19</th>\n",
       "      <td>19</td>\n",
       "      <td>34625</td>\n",
       "      <td>4328.12</td>\n",
       "    </tr>\n",
       "    <tr>\n",
       "      <th>20</th>\n",
       "      <td>20</td>\n",
       "      <td>27388</td>\n",
       "      <td>3423.50</td>\n",
       "    </tr>\n",
       "    <tr>\n",
       "      <th>21</th>\n",
       "      <td>21</td>\n",
       "      <td>17211</td>\n",
       "      <td>2151.38</td>\n",
       "    </tr>\n",
       "    <tr>\n",
       "      <th>22</th>\n",
       "      <td>22</td>\n",
       "      <td>11379</td>\n",
       "      <td>1422.38</td>\n",
       "    </tr>\n",
       "    <tr>\n",
       "      <th>23</th>\n",
       "      <td>23</td>\n",
       "      <td>8307</td>\n",
       "      <td>1038.38</td>\n",
       "    </tr>\n",
       "  </tbody>\n",
       "</table>\n",
       "</div>"
      ],
      "text/plain": [
       "    hour  count  avg_weekend\n",
       "0      0   7135       891.88\n",
       "1      1   4497       562.12\n",
       "2      2   2388       298.50\n",
       "3      3   1353       169.12\n",
       "4      4    906       113.25\n",
       "5      5   1694       211.75\n",
       "6      6   4267       533.38\n",
       "7      7   8099      1012.38\n",
       "8      8  13290      1661.25\n",
       "9      9  20389      2548.62\n",
       "10    10  28871      3608.88\n",
       "11    11  36486      4560.75\n",
       "12    12  44987      5623.38\n",
       "13    13  50111      6263.88\n",
       "14    14  52256      6532.00\n",
       "15    15  52369      6546.12\n",
       "16    16  53569      6696.12\n",
       "17    17  53967      6745.88\n",
       "18    18  44087      5510.88\n",
       "19    19  34625      4328.12\n",
       "20    20  27388      3423.50\n",
       "21    21  17211      2151.38\n",
       "22    22  11379      1422.38\n",
       "23    23   8307      1038.38"
      ]
     },
     "execution_count": 26,
     "metadata": {},
     "output_type": "execute_result"
    }
   ],
   "source": [
    "trips_weekend = weekends.groupby('hour', as_index = False)[['starttime']].count()\n",
    "trips_weekend.columns = ['hour','count']\n",
    "trips_weekend['avg_weekend'] = trips_weekend['count']/8\n",
    "trips_weekend"
   ]
  },
  {
   "cell_type": "code",
   "execution_count": 29,
   "id": "4c102be1",
   "metadata": {},
   "outputs": [
    {
     "data": {
      "image/png": "[encoded data removed]",
      "text/plain": [
       "<Figure size 1500x900 with 1 Axes>"
      ]
     },
     "metadata": {},
     "output_type": "display_data"
    }
   ],
   "source": [
    "# bar plot of rides on weekdays vs. weekends\n",
    "fig, ax = plt.subplots(figsize=(15,9)) # w x h\n",
    "\n",
    "x = np.arange(24)\n",
    "  \n",
    "plt.bar(x-.15, trips_week['avg_week'], width = 0.3, color = 'darksalmon')\n",
    "plt.bar(x+.15, trips_weekend['avg_weekend'], width = 0.3, color = 'cornflowerblue')\n",
    "\n",
    "plt.xticks(x)\n",
    "plt.xlabel(\"Hour\")\n",
    "plt.ylabel(\"Trip Count\")\n",
    "plt.legend([\"Weekdays\", \"Weekend\"])\n",
    "\n",
    "plt.title('Average Number of Trips by Time of Day')\n",
    "ax.set_facecolor(\"whitesmoke\")"
   ]
  }
 ],
 "metadata": {
  "kernelspec": {
   "display_name": "Python 3 (ipykernel)",
   "language": "python",
   "name": "python3"
  },
  "language_info": {
   "codemirror_mode": {
    "name": "ipython",
    "version": 3
   },
   "file_extension": ".py",
   "mimetype": "text/x-python",
   "name": "python",
   "nbconvert_exporter": "python",
   "pygments_lexer": "ipython3",
   "version": "3.10.9"
  }
 },
 "nbformat": 4,
 "nbformat_minor": 5
}
