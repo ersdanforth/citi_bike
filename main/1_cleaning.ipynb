{
 "cells": [
  {
   "cell_type": "code",
   "execution_count": 2,
   "id": "7c9e181a",
   "metadata": {},
   "outputs": [],
   "source": [
    "import pandas as pd\n",
    "import numpy as np\n",
    "import geopandas as gpd\n",
    "\n",
    "pd.set_option('display.max_columns', 30)"
   ]
  },
  {
   "cell_type": "code",
   "execution_count": 3,
   "id": "12f5d124",
   "metadata": {},
   "outputs": [
    {
     "data": {
      "text/plain": [
       "(1882273, 15)"
      ]
     },
     "execution_count": 3,
     "metadata": {},
     "output_type": "execute_result"
    }
   ],
   "source": [
    "df = pd.read_csv('data/202006-citibike-tripdata.csv')\n",
    "df.shape"
   ]
  },
  {
   "cell_type": "code",
   "execution_count": 3,
   "id": "d6328d76",
   "metadata": {},
   "outputs": [
    {
     "data": {
      "text/html": [
       "<div>\n",
       "<style scoped>\n",
       "    .dataframe tbody tr th:only-of-type {\n",
       "        vertical-align: middle;\n",
       "    }\n",
       "\n",
       "    .dataframe tbody tr th {\n",
       "        vertical-align: top;\n",
       "    }\n",
       "\n",
       "    .dataframe thead th {\n",
       "        text-align: right;\n",
       "    }\n",
       "</style>\n",
       "<table border=\"1\" class=\"dataframe\">\n",
       "  <thead>\n",
       "    <tr style=\"text-align: right;\">\n",
       "      <th></th>\n",
       "      <th>tripduration</th>\n",
       "      <th>starttime</th>\n",
       "      <th>stoptime</th>\n",
       "      <th>start_id</th>\n",
       "      <th>start_name</th>\n",
       "      <th>start_lat</th>\n",
       "      <th>start_lon</th>\n",
       "      <th>end_id</th>\n",
       "      <th>end_name</th>\n",
       "      <th>end_lat</th>\n",
       "      <th>end_lon</th>\n",
       "      <th>bikeid</th>\n",
       "      <th>usertype</th>\n",
       "      <th>birth_year</th>\n",
       "      <th>gender</th>\n",
       "    </tr>\n",
       "  </thead>\n",
       "  <tbody>\n",
       "    <tr>\n",
       "      <th>0</th>\n",
       "      <td>1062</td>\n",
       "      <td>2020-06-01 00:00:03.3720</td>\n",
       "      <td>2020-06-01 00:17:46.2080</td>\n",
       "      <td>3419</td>\n",
       "      <td>Douglass St &amp; 4 Ave</td>\n",
       "      <td>40.679279</td>\n",
       "      <td>-73.981540</td>\n",
       "      <td>3419</td>\n",
       "      <td>Douglass St &amp; 4 Ave</td>\n",
       "      <td>40.679279</td>\n",
       "      <td>-73.981540</td>\n",
       "      <td>39852</td>\n",
       "      <td>Customer</td>\n",
       "      <td>1997</td>\n",
       "      <td>2</td>\n",
       "    </tr>\n",
       "    <tr>\n",
       "      <th>1</th>\n",
       "      <td>3810</td>\n",
       "      <td>2020-06-01 00:00:03.5530</td>\n",
       "      <td>2020-06-01 01:03:33.9360</td>\n",
       "      <td>366</td>\n",
       "      <td>Clinton Ave &amp; Myrtle Ave</td>\n",
       "      <td>40.693261</td>\n",
       "      <td>-73.968896</td>\n",
       "      <td>336</td>\n",
       "      <td>Sullivan St &amp; Washington Sq</td>\n",
       "      <td>40.730477</td>\n",
       "      <td>-73.999061</td>\n",
       "      <td>37558</td>\n",
       "      <td>Subscriber</td>\n",
       "      <td>1969</td>\n",
       "      <td>0</td>\n",
       "    </tr>\n",
       "    <tr>\n",
       "      <th>2</th>\n",
       "      <td>1017</td>\n",
       "      <td>2020-06-01 00:00:09.6140</td>\n",
       "      <td>2020-06-01 00:17:06.8330</td>\n",
       "      <td>389</td>\n",
       "      <td>Broadway &amp; Berry St</td>\n",
       "      <td>40.710446</td>\n",
       "      <td>-73.965251</td>\n",
       "      <td>3562</td>\n",
       "      <td>Classon Ave &amp; St Marks Ave</td>\n",
       "      <td>40.676520</td>\n",
       "      <td>-73.959608</td>\n",
       "      <td>37512</td>\n",
       "      <td>Customer</td>\n",
       "      <td>1988</td>\n",
       "      <td>2</td>\n",
       "    </tr>\n",
       "    <tr>\n",
       "      <th>3</th>\n",
       "      <td>226</td>\n",
       "      <td>2020-06-01 00:00:12.1780</td>\n",
       "      <td>2020-06-01 00:03:58.8640</td>\n",
       "      <td>3255</td>\n",
       "      <td>8 Ave &amp; W 31 St</td>\n",
       "      <td>40.750585</td>\n",
       "      <td>-73.994685</td>\n",
       "      <td>505</td>\n",
       "      <td>6 Ave &amp; W 33 St</td>\n",
       "      <td>40.749013</td>\n",
       "      <td>-73.988484</td>\n",
       "      <td>39674</td>\n",
       "      <td>Customer</td>\n",
       "      <td>1969</td>\n",
       "      <td>0</td>\n",
       "    </tr>\n",
       "    <tr>\n",
       "      <th>4</th>\n",
       "      <td>1437</td>\n",
       "      <td>2020-06-01 00:00:21.2550</td>\n",
       "      <td>2020-06-01 00:24:18.9650</td>\n",
       "      <td>367</td>\n",
       "      <td>E 53 St &amp; Lexington Ave</td>\n",
       "      <td>40.758281</td>\n",
       "      <td>-73.970694</td>\n",
       "      <td>497</td>\n",
       "      <td>E 17 St &amp; Broadway</td>\n",
       "      <td>40.737050</td>\n",
       "      <td>-73.990093</td>\n",
       "      <td>21093</td>\n",
       "      <td>Customer</td>\n",
       "      <td>1997</td>\n",
       "      <td>2</td>\n",
       "    </tr>\n",
       "  </tbody>\n",
       "</table>\n",
       "</div>"
      ],
      "text/plain": [
       "   tripduration                 starttime                  stoptime  start_id  \\\n",
       "0          1062  2020-06-01 00:00:03.3720  2020-06-01 00:17:46.2080      3419   \n",
       "1          3810  2020-06-01 00:00:03.5530  2020-06-01 01:03:33.9360       366   \n",
       "2          1017  2020-06-01 00:00:09.6140  2020-06-01 00:17:06.8330       389   \n",
       "3           226  2020-06-01 00:00:12.1780  2020-06-01 00:03:58.8640      3255   \n",
       "4          1437  2020-06-01 00:00:21.2550  2020-06-01 00:24:18.9650       367   \n",
       "\n",
       "                 start_name  start_lat  start_lon  end_id  \\\n",
       "0       Douglass St & 4 Ave  40.679279 -73.981540    3419   \n",
       "1  Clinton Ave & Myrtle Ave  40.693261 -73.968896     336   \n",
       "2       Broadway & Berry St  40.710446 -73.965251    3562   \n",
       "3           8 Ave & W 31 St  40.750585 -73.994685     505   \n",
       "4   E 53 St & Lexington Ave  40.758281 -73.970694     497   \n",
       "\n",
       "                      end_name    end_lat    end_lon  bikeid    usertype  \\\n",
       "0          Douglass St & 4 Ave  40.679279 -73.981540   39852    Customer   \n",
       "1  Sullivan St & Washington Sq  40.730477 -73.999061   37558  Subscriber   \n",
       "2   Classon Ave & St Marks Ave  40.676520 -73.959608   37512    Customer   \n",
       "3              6 Ave & W 33 St  40.749013 -73.988484   39674    Customer   \n",
       "4           E 17 St & Broadway  40.737050 -73.990093   21093    Customer   \n",
       "\n",
       "   birth_year  gender  \n",
       "0        1997       2  \n",
       "1        1969       0  \n",
       "2        1988       2  \n",
       "3        1969       0  \n",
       "4        1997       2  "
      ]
     },
     "execution_count": 3,
     "metadata": {},
     "output_type": "execute_result"
    }
   ],
   "source": [
    "df.columns = ['tripduration','starttime','stoptime','start_id','start_name','start_lat','start_lon','end_id',\n",
    "              'end_name','end_lat','end_lon','bikeid','usertype','birth_year','gender']\n",
    "df.head()"
   ]
  },
  {
   "cell_type": "code",
   "execution_count": 4,
   "id": "0883fb74",
   "metadata": {},
   "outputs": [],
   "source": [
    "# remove trip lengths above 99th percentile\n",
    "trip_extreme = df['tripduration'].quantile(0.99)\n",
    "trip_extreme #7947 secs, 132 min\n",
    "df = df[(df['tripduration'] < trip_extreme)].reset_index(drop=True)"
   ]
  },
  {
   "cell_type": "code",
   "execution_count": 5,
   "id": "5d4a14a3",
   "metadata": {},
   "outputs": [
    {
     "data": {
      "text/plain": [
       "count    1.863447e+06\n",
       "mean     2.091854e+01\n",
       "std      1.679003e+01\n",
       "min      1.016667e+00\n",
       "25%      9.000000e+00\n",
       "50%      1.695000e+01\n",
       "75%      2.818333e+01\n",
       "max      1.324333e+02\n",
       "Name: tripduration, dtype: float64"
      ]
     },
     "execution_count": 5,
     "metadata": {},
     "output_type": "execute_result"
    }
   ],
   "source": [
    "# convert trips to minutes\n",
    "df['tripduration'] = df['tripduration']/60\n",
    "df['tripduration'].describe()"
   ]
  },
  {
   "cell_type": "code",
   "execution_count": 6,
   "id": "99edf469",
   "metadata": {},
   "outputs": [],
   "source": [
    "# convert start and stop to datetime\n",
    "df['starttime'] = pd.to_datetime(df['starttime'])\n",
    "df['stoptime'] = pd.to_datetime(df['stoptime'])"
   ]
  },
  {
   "cell_type": "code",
   "execution_count": 7,
   "id": "75432acb",
   "metadata": {},
   "outputs": [],
   "source": [
    "df['weekday'] = df['starttime'].dt.dayofweek\n",
    "df['hour'] = df['starttime'].dt.hour"
   ]
  },
  {
   "cell_type": "code",
   "execution_count": 8,
   "id": "17ac0f50",
   "metadata": {},
   "outputs": [],
   "source": [
    "# write to csv\n",
    "df.to_csv('data/citibike_clean.csv', index = False)"
   ]
  }
 ],
 "metadata": {
  "kernelspec": {
   "display_name": "Python 3 (ipykernel)",
   "language": "python",
   "name": "python3"
  },
  "language_info": {
   "codemirror_mode": {
    "name": "ipython",
    "version": 3
   },
   "file_extension": ".py",
   "mimetype": "text/x-python",
   "name": "python",
   "nbconvert_exporter": "python",
   "pygments_lexer": "ipython3",
   "version": "3.10.9"
  }
 },
 "nbformat": 4,
 "nbformat_minor": 5
}
